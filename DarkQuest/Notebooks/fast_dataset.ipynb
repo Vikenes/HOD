{
 "cells": [
  {
   "cell_type": "code",
   "execution_count": 1,
   "metadata": {},
   "outputs": [],
   "source": [
    "import numpy as np\n",
    "import matplotlib.pyplot as plt\n",
    "from pathlib import Path\n",
    "import pandas as pd\n",
    "from dq import snapshot_to_redshift,convert_run_to_cosmo_number,Cosmology"
   ]
  },
  {
   "cell_type": "code",
   "execution_count": 2,
   "metadata": {},
   "outputs": [],
   "source": [
    "HALO_DATA_DIR = Path(\"/cosma6/data/dp004/dc-cues1/DarkQuest/\")"
   ]
  },
  {
   "cell_type": "code",
   "execution_count": 3,
   "metadata": {},
   "outputs": [],
   "source": [
    "r_xi =  np.loadtxt(HALO_DATA_DIR / \"xi/separation.dat\")"
   ]
  },
  {
   "cell_type": "code",
   "execution_count": 4,
   "metadata": {},
   "outputs": [],
   "source": [
    "xi_hh_data = np.load(HALO_DATA_DIR / \"xi/xihh.npy\")"
   ]
  },
  {
   "cell_type": "code",
   "execution_count": 5,
   "metadata": {},
   "outputs": [],
   "source": [
    "lognh_table = np.loadtxt(HALO_DATA_DIR / \"xi/log10density_table.dat\")"
   ]
  },
  {
   "cell_type": "code",
   "execution_count": 6,
   "metadata": {},
   "outputs": [],
   "source": [
    "runs = np.arange(len(xi_hh_data))"
   ]
  },
  {
   "cell_type": "code",
   "execution_count": 7,
   "metadata": {},
   "outputs": [],
   "source": [
    "# map runs to cosmo numbers\n",
    "cosmo_number = [convert_run_to_cosmo_number(run) for run in range(1,len(xi_hh_data)+1)]"
   ]
  },
  {
   "cell_type": "code",
   "execution_count": 8,
   "metadata": {},
   "outputs": [],
   "source": [
    "cosmo_number2run = dict(zip(cosmo_number, range(1,len(xi_hh_data)+1)))"
   ]
  },
  {
   "cell_type": "code",
   "execution_count": 9,
   "metadata": {},
   "outputs": [],
   "source": [
    "r_max = 80.\n",
    "r_mask = (r_xi < r_max)\n",
    "xi_hh_data = xi_hh_data[...,r_mask]\n",
    "r_xi = r_xi[r_mask]"
   ]
  },
  {
   "cell_type": "code",
   "execution_count": 10,
   "metadata": {},
   "outputs": [],
   "source": [
    "xi_hh_data.shape\n",
    "n_runs, n_snapshots, n_logn, n_r = xi_hh_data.shape\n"
   ]
  },
  {
   "cell_type": "code",
   "execution_count": 11,
   "metadata": {},
   "outputs": [],
   "source": [
    "flat_xi_hh_data = xi_hh_data.reshape((-1, len(r_xi)))"
   ]
  },
  {
   "cell_type": "code",
   "execution_count": 12,
   "metadata": {},
   "outputs": [
    {
     "data": {
      "text/plain": [
       "[<matplotlib.lines.Line2D at 0x2b23e8e23650>]"
      ]
     },
     "execution_count": 12,
     "metadata": {},
     "output_type": "execute_result"
    },
    {
     "data": {
      "image/png": "[encoded data removed]",
      "text/plain": [
       "<Figure size 432x288 with 1 Axes>"
      ]
     },
     "metadata": {
      "needs_background": "light"
     },
     "output_type": "display_data"
    }
   ],
   "source": [
    "plt.plot(r_xi, r_xi**2*flat_xi_hh_data[-3,:])\n",
    "plt.plot(r_xi, r_xi**2*xi_hh_data[-1,-1,-3,:])"
   ]
  },
  {
   "cell_type": "code",
   "execution_count": 13,
   "metadata": {},
   "outputs": [],
   "source": [
    "# Runs to cosmological parameters\n",
    "cosmo_params = pd.read_csv('/cosma6/data/dp004/dc-cues1/emulator/cosmological_parameters.dat', sep= ' ')"
   ]
  },
  {
   "cell_type": "code",
   "execution_count": 14,
   "metadata": {},
   "outputs": [],
   "source": [
    "cosmo_params = cosmo_params.iloc[1:]#.reset_index(drop=True)"
   ]
  },
  {
   "cell_type": "code",
   "execution_count": 15,
   "metadata": {},
   "outputs": [
    {
     "data": {
      "text/html": [
       "<div>\n",
       "<style scoped>\n",
       "    .dataframe tbody tr th:only-of-type {\n",
       "        vertical-align: middle;\n",
       "    }\n",
       "\n",
       "    .dataframe tbody tr th {\n",
       "        vertical-align: top;\n",
       "    }\n",
       "\n",
       "    .dataframe thead th {\n",
       "        text-align: right;\n",
       "    }\n",
       "</style>\n",
       "<table border=\"1\" class=\"dataframe\">\n",
       "  <thead>\n",
       "    <tr style=\"text-align: right;\">\n",
       "      <th></th>\n",
       "      <th>wb</th>\n",
       "      <th>wc</th>\n",
       "      <th>Ol</th>\n",
       "      <th>tau</th>\n",
       "      <th>lnAs</th>\n",
       "      <th>ns</th>\n",
       "      <th>w</th>\n",
       "      <th>s8</th>\n",
       "      <th>Om</th>\n",
       "      <th>h</th>\n",
       "    </tr>\n",
       "  </thead>\n",
       "  <tbody>\n",
       "    <tr>\n",
       "      <th>1</th>\n",
       "      <td>0.021149</td>\n",
       "      <td>0.124951</td>\n",
       "      <td>0.713145</td>\n",
       "      <td>0.068335</td>\n",
       "      <td>3.07544</td>\n",
       "      <td>0.927367</td>\n",
       "      <td>-0.878</td>\n",
       "      <td>0.820884</td>\n",
       "      <td>0.286855</td>\n",
       "      <td>0.715225</td>\n",
       "    </tr>\n",
       "    <tr>\n",
       "      <th>2</th>\n",
       "      <td>0.021349</td>\n",
       "      <td>0.114888</td>\n",
       "      <td>0.559839</td>\n",
       "      <td>0.062805</td>\n",
       "      <td>2.59277</td>\n",
       "      <td>0.965947</td>\n",
       "      <td>-0.986</td>\n",
       "      <td>0.603881</td>\n",
       "      <td>0.440161</td>\n",
       "      <td>0.557647</td>\n",
       "    </tr>\n",
       "    <tr>\n",
       "      <th>3</th>\n",
       "      <td>0.021416</td>\n",
       "      <td>0.120399</td>\n",
       "      <td>0.754209</td>\n",
       "      <td>0.084135</td>\n",
       "      <td>3.36008</td>\n",
       "      <td>1.004530</td>\n",
       "      <td>-0.910</td>\n",
       "      <td>0.971229</td>\n",
       "      <td>0.245791</td>\n",
       "      <td>0.761299</td>\n",
       "    </tr>\n",
       "    <tr>\n",
       "      <th>4</th>\n",
       "      <td>0.021571</td>\n",
       "      <td>0.108659</td>\n",
       "      <td>0.770634</td>\n",
       "      <td>0.054115</td>\n",
       "      <td>3.31058</td>\n",
       "      <td>0.961124</td>\n",
       "      <td>-0.854</td>\n",
       "      <td>0.843781</td>\n",
       "      <td>0.229367</td>\n",
       "      <td>0.755363</td>\n",
       "    </tr>\n",
       "    <tr>\n",
       "      <th>5</th>\n",
       "      <td>0.021616</td>\n",
       "      <td>0.113690</td>\n",
       "      <td>0.729570</td>\n",
       "      <td>0.104675</td>\n",
       "      <td>2.53089</td>\n",
       "      <td>0.935083</td>\n",
       "      <td>-0.886</td>\n",
       "      <td>0.587392</td>\n",
       "      <td>0.270429</td>\n",
       "      <td>0.709016</td>\n",
       "    </tr>\n",
       "    <tr>\n",
       "      <th>...</th>\n",
       "      <td>...</td>\n",
       "      <td>...</td>\n",
       "      <td>...</td>\n",
       "      <td>...</td>\n",
       "      <td>...</td>\n",
       "      <td>...</td>\n",
       "      <td>...</td>\n",
       "      <td>...</td>\n",
       "      <td>...</td>\n",
       "      <td>...</td>\n",
       "    </tr>\n",
       "    <tr>\n",
       "      <th>96</th>\n",
       "      <td>0.022840</td>\n",
       "      <td>0.111534</td>\n",
       "      <td>0.691244</td>\n",
       "      <td>0.101515</td>\n",
       "      <td>2.48139</td>\n",
       "      <td>0.964018</td>\n",
       "      <td>-0.926</td>\n",
       "      <td>0.567620</td>\n",
       "      <td>0.308756</td>\n",
       "      <td>0.661273</td>\n",
       "    </tr>\n",
       "    <tr>\n",
       "      <th>97</th>\n",
       "      <td>0.022973</td>\n",
       "      <td>0.119920</td>\n",
       "      <td>0.789798</td>\n",
       "      <td>0.051745</td>\n",
       "      <td>3.34771</td>\n",
       "      <td>0.973663</td>\n",
       "      <td>-0.858</td>\n",
       "      <td>0.926508</td>\n",
       "      <td>0.210203</td>\n",
       "      <td>0.826336</td>\n",
       "    </tr>\n",
       "    <tr>\n",
       "      <th>98</th>\n",
       "      <td>0.023107</td>\n",
       "      <td>0.119201</td>\n",
       "      <td>0.570790</td>\n",
       "      <td>0.061225</td>\n",
       "      <td>3.54572</td>\n",
       "      <td>0.990059</td>\n",
       "      <td>-1.038</td>\n",
       "      <td>1.006150</td>\n",
       "      <td>0.429210</td>\n",
       "      <td>0.577103</td>\n",
       "    </tr>\n",
       "    <tr>\n",
       "      <th>99</th>\n",
       "      <td>0.023240</td>\n",
       "      <td>0.123514</td>\n",
       "      <td>0.650180</td>\n",
       "      <td>0.071495</td>\n",
       "      <td>2.66703</td>\n",
       "      <td>0.952444</td>\n",
       "      <td>-1.138</td>\n",
       "      <td>0.688576</td>\n",
       "      <td>0.349820</td>\n",
       "      <td>0.649109</td>\n",
       "    </tr>\n",
       "    <tr>\n",
       "      <th>100</th>\n",
       "      <td>0.023307</td>\n",
       "      <td>0.125431</td>\n",
       "      <td>0.798010</td>\n",
       "      <td>0.103885</td>\n",
       "      <td>3.12494</td>\n",
       "      <td>0.939905</td>\n",
       "      <td>-1.066</td>\n",
       "      <td>0.914947</td>\n",
       "      <td>0.201990</td>\n",
       "      <td>0.859960</td>\n",
       "    </tr>\n",
       "  </tbody>\n",
       "</table>\n",
       "<p>100 rows × 10 columns</p>\n",
       "</div>"
      ],
      "text/plain": [
       "           wb        wc        Ol       tau     lnAs        ns      w  \\\n",
       "1    0.021149  0.124951  0.713145  0.068335  3.07544  0.927367 -0.878   \n",
       "2    0.021349  0.114888  0.559839  0.062805  2.59277  0.965947 -0.986   \n",
       "3    0.021416  0.120399  0.754209  0.084135  3.36008  1.004530 -0.910   \n",
       "4    0.021571  0.108659  0.770634  0.054115  3.31058  0.961124 -0.854   \n",
       "5    0.021616  0.113690  0.729570  0.104675  2.53089  0.935083 -0.886   \n",
       "..        ...       ...       ...       ...      ...       ...    ...   \n",
       "96   0.022840  0.111534  0.691244  0.101515  2.48139  0.964018 -0.926   \n",
       "97   0.022973  0.119920  0.789798  0.051745  3.34771  0.973663 -0.858   \n",
       "98   0.023107  0.119201  0.570790  0.061225  3.54572  0.990059 -1.038   \n",
       "99   0.023240  0.123514  0.650180  0.071495  2.66703  0.952444 -1.138   \n",
       "100  0.023307  0.125431  0.798010  0.103885  3.12494  0.939905 -1.066   \n",
       "\n",
       "           s8        Om         h  \n",
       "1    0.820884  0.286855  0.715225  \n",
       "2    0.603881  0.440161  0.557647  \n",
       "3    0.971229  0.245791  0.761299  \n",
       "4    0.843781  0.229367  0.755363  \n",
       "5    0.587392  0.270429  0.709016  \n",
       "..        ...       ...       ...  \n",
       "96   0.567620  0.308756  0.661273  \n",
       "97   0.926508  0.210203  0.826336  \n",
       "98   1.006150  0.429210  0.577103  \n",
       "99   0.688576  0.349820  0.649109  \n",
       "100  0.914947  0.201990  0.859960  \n",
       "\n",
       "[100 rows x 10 columns]"
      ]
     },
     "execution_count": 15,
     "metadata": {},
     "output_type": "execute_result"
    }
   ],
   "source": [
    "cosmo_params"
   ]
  },
  {
   "cell_type": "code",
   "execution_count": 16,
   "metadata": {},
   "outputs": [],
   "source": [
    "cosmo_numbers = [cosmo_number2run[c] for c in range(1,len(xi_hh_data)+1)]\n",
    "cosmo_params = cosmo_params.loc[cosmo_numbers].reset_index(drop=True).reset_index()\n"
   ]
  },
  {
   "cell_type": "code",
   "execution_count": 17,
   "metadata": {},
   "outputs": [],
   "source": [
    "cosmo_params = cosmo_params.loc[cosmo_params.index.repeat(n_snapshots*n_logn)]\n"
   ]
  },
  {
   "cell_type": "code",
   "execution_count": 18,
   "metadata": {},
   "outputs": [],
   "source": [
    "flat_df = pd.DataFrame(flat_xi_hh_data,\n",
    "            columns=[f'xi_{i}' for i in range(len(flat_xi_hh_data.T))])"
   ]
  },
  {
   "cell_type": "code",
   "execution_count": 19,
   "metadata": {},
   "outputs": [
    {
     "data": {
      "text/plain": [
       "[<matplotlib.lines.Line2D at 0x2b23e9c9c490>]"
      ]
     },
     "execution_count": 19,
     "metadata": {},
     "output_type": "execute_result"
    },
    {
     "data": {
      "image/png": "[encoded data removed]",
      "text/plain": [
       "<Figure size 432x288 with 1 Axes>"
      ]
     },
     "metadata": {
      "needs_background": "light"
     },
     "output_type": "display_data"
    }
   ],
   "source": [
    "plt.plot(r_xi, r_xi**2*flat_xi_hh_data[-3,:])\n",
    "plt.plot(r_xi, r_xi**2*flat_df.iloc[-3])\n"
   ]
  },
  {
   "cell_type": "code",
   "execution_count": 20,
   "metadata": {},
   "outputs": [],
   "source": [
    "cosmo_params = cosmo_params.reset_index(drop=True)"
   ]
  },
  {
   "cell_type": "code",
   "execution_count": 21,
   "metadata": {},
   "outputs": [],
   "source": [
    "df = cosmo_params.join(flat_df)\n"
   ]
  },
  {
   "cell_type": "code",
   "execution_count": 22,
   "metadata": {},
   "outputs": [],
   "source": [
    "# Add redshift and logn\n",
    "redshifts = [snapshot_to_redshift(s) for s in range(n_snapshots)]"
   ]
  },
  {
   "cell_type": "code",
   "execution_count": 23,
   "metadata": {},
   "outputs": [],
   "source": [
    "sampling = len(df) // len(lognh_table)"
   ]
  },
  {
   "cell_type": "code",
   "execution_count": 24,
   "metadata": {},
   "outputs": [],
   "source": [
    "logn_bin = list(range(len(lognh_table))) * sampling"
   ]
  },
  {
   "cell_type": "code",
   "execution_count": 25,
   "metadata": {},
   "outputs": [],
   "source": [
    "df['logn_bin'] = logn_bin"
   ]
  },
  {
   "cell_type": "code",
   "execution_count": 26,
   "metadata": {},
   "outputs": [],
   "source": [
    "df['logn1'] = lognh_table[df['logn_bin'].values][:,0]\n",
    "df['logn2'] = lognh_table[df['logn_bin'].values][:,1]"
   ]
  },
  {
   "cell_type": "code",
   "execution_count": 27,
   "metadata": {},
   "outputs": [],
   "source": [
    "redshifts = list(np.repeat(redshifts,len(lognh_table)))*n_runs"
   ]
  },
  {
   "cell_type": "code",
   "execution_count": 28,
   "metadata": {},
   "outputs": [],
   "source": [
    "df['redshift'] = redshifts"
   ]
  },
  {
   "cell_type": "code",
   "execution_count": 29,
   "metadata": {},
   "outputs": [],
   "source": [
    "select_columns = [col for col in df.columns if col.startswith('xi_')]\n"
   ]
  },
  {
   "cell_type": "code",
   "execution_count": 30,
   "metadata": {},
   "outputs": [],
   "source": [
    "df['index'] +=1 "
   ]
  },
  {
   "cell_type": "code",
   "execution_count": 31,
   "metadata": {},
   "outputs": [
    {
     "data": {
      "text/plain": [
       "[<matplotlib.lines.Line2D at 0x2b23e96f4ed0>]"
      ]
     },
     "execution_count": 31,
     "metadata": {},
     "output_type": "execute_result"
    },
    {
     "data": {
      "image/png": "[encoded data removed]",
      "text/plain": [
       "<Figure size 432x288 with 1 Axes>"
      ]
     },
     "metadata": {
      "needs_background": "light"
     },
     "output_type": "display_data"
    }
   ],
   "source": [
    "run = 30\n",
    "snapshot = 3\n",
    "logn_bin = 26\n",
    "logn1, logn2 = lognh_table[logn_bin]\n",
    "plt.plot(r_xi, r_xi**2*xi_hh_data[run-1, snapshot, logn_bin])\n",
    "plt.plot(r_xi, r_xi**2*df[(df['index'] == run) & (df['redshift'] == snapshot_to_redshift(snapshot))\n",
    "                          & (df['logn1'] == logn1) & (df['logn2'] == logn2)][select_columns].iloc[0])"
   ]
  },
  {
   "cell_type": "code",
   "execution_count": 32,
   "metadata": {},
   "outputs": [],
   "source": [
    "xi_fiducial = np.load(HALO_DATA_DIR / \"xi/xihh_fiducial.npy\")"
   ]
  },
  {
   "cell_type": "code",
   "execution_count": 33,
   "metadata": {},
   "outputs": [],
   "source": [
    "# In case we are training with non-multioutput -> remove nans completely\n",
    "# In multioutput? -> Always remove nans"
   ]
  },
  {
   "cell_type": "code",
   "execution_count": 34,
   "metadata": {},
   "outputs": [
    {
     "name": "stdout",
     "output_type": "stream",
     "text": [
      "initialize cosmo_class\n",
      "Initialize pklin emulator\n",
      "initialize propagator emulator\n",
      "Initialize sigma_d emulator\n",
      "initialize cross-correlation emulator\n",
      "initialize auto-correlation emulator\n",
      "Initialize sigmaM emulator\n",
      "initialize xinl emulator\n"
     ]
    }
   ],
   "source": [
    "from dark_emulator import darkemu\n",
    "emu = darkemu.base_class()\n"
   ]
  },
  {
   "cell_type": "code",
   "execution_count": 44,
   "metadata": {},
   "outputs": [],
   "source": [
    "emu.set_cosmology(emu.cosmo.cpara_list[run])"
   ]
  },
  {
   "cell_type": "code",
   "execution_count": 45,
   "metadata": {},
   "outputs": [
    {
     "data": {
      "text/html": [
       "<div>\n",
       "<style scoped>\n",
       "    .dataframe tbody tr th:only-of-type {\n",
       "        vertical-align: middle;\n",
       "    }\n",
       "\n",
       "    .dataframe tbody tr th {\n",
       "        vertical-align: top;\n",
       "    }\n",
       "\n",
       "    .dataframe thead th {\n",
       "        text-align: right;\n",
       "    }\n",
       "</style>\n",
       "<table border=\"1\" class=\"dataframe\">\n",
       "  <thead>\n",
       "    <tr style=\"text-align: right;\">\n",
       "      <th></th>\n",
       "      <th>index</th>\n",
       "      <th>wb</th>\n",
       "      <th>wc</th>\n",
       "      <th>Ol</th>\n",
       "      <th>tau</th>\n",
       "      <th>lnAs</th>\n",
       "      <th>ns</th>\n",
       "      <th>w</th>\n",
       "      <th>s8</th>\n",
       "      <th>Om</th>\n",
       "      <th>...</th>\n",
       "      <th>xi_69</th>\n",
       "      <th>xi_70</th>\n",
       "      <th>xi_71</th>\n",
       "      <th>xi_72</th>\n",
       "      <th>xi_73</th>\n",
       "      <th>xi_74</th>\n",
       "      <th>logn_bin</th>\n",
       "      <th>logn1</th>\n",
       "      <th>logn2</th>\n",
       "      <th>redshift</th>\n",
       "    </tr>\n",
       "  </thead>\n",
       "  <tbody>\n",
       "    <tr>\n",
       "      <th>21924</th>\n",
       "      <td>30</td>\n",
       "      <td>0.02215</td>\n",
       "      <td>0.117284</td>\n",
       "      <td>0.817174</td>\n",
       "      <td>0.097565</td>\n",
       "      <td>2.9888</td>\n",
       "      <td>1.00067</td>\n",
       "      <td>-1.086</td>\n",
       "      <td>0.856555</td>\n",
       "      <td>0.182826</td>\n",
       "      <td>...</td>\n",
       "      <td>NaN</td>\n",
       "      <td>NaN</td>\n",
       "      <td>NaN</td>\n",
       "      <td>NaN</td>\n",
       "      <td>NaN</td>\n",
       "      <td>NaN</td>\n",
       "      <td>0</td>\n",
       "      <td>-2.5</td>\n",
       "      <td>-2.5</td>\n",
       "      <td>1.475701</td>\n",
       "    </tr>\n",
       "    <tr>\n",
       "      <th>21925</th>\n",
       "      <td>30</td>\n",
       "      <td>0.02215</td>\n",
       "      <td>0.117284</td>\n",
       "      <td>0.817174</td>\n",
       "      <td>0.097565</td>\n",
       "      <td>2.9888</td>\n",
       "      <td>1.00067</td>\n",
       "      <td>-1.086</td>\n",
       "      <td>0.856555</td>\n",
       "      <td>0.182826</td>\n",
       "      <td>...</td>\n",
       "      <td>NaN</td>\n",
       "      <td>NaN</td>\n",
       "      <td>NaN</td>\n",
       "      <td>NaN</td>\n",
       "      <td>NaN</td>\n",
       "      <td>NaN</td>\n",
       "      <td>1</td>\n",
       "      <td>-2.5</td>\n",
       "      <td>-3.0</td>\n",
       "      <td>1.475701</td>\n",
       "    </tr>\n",
       "    <tr>\n",
       "      <th>21926</th>\n",
       "      <td>30</td>\n",
       "      <td>0.02215</td>\n",
       "      <td>0.117284</td>\n",
       "      <td>0.817174</td>\n",
       "      <td>0.097565</td>\n",
       "      <td>2.9888</td>\n",
       "      <td>1.00067</td>\n",
       "      <td>-1.086</td>\n",
       "      <td>0.856555</td>\n",
       "      <td>0.182826</td>\n",
       "      <td>...</td>\n",
       "      <td>NaN</td>\n",
       "      <td>NaN</td>\n",
       "      <td>NaN</td>\n",
       "      <td>NaN</td>\n",
       "      <td>NaN</td>\n",
       "      <td>NaN</td>\n",
       "      <td>2</td>\n",
       "      <td>-2.5</td>\n",
       "      <td>-3.5</td>\n",
       "      <td>1.475701</td>\n",
       "    </tr>\n",
       "    <tr>\n",
       "      <th>21927</th>\n",
       "      <td>30</td>\n",
       "      <td>0.02215</td>\n",
       "      <td>0.117284</td>\n",
       "      <td>0.817174</td>\n",
       "      <td>0.097565</td>\n",
       "      <td>2.9888</td>\n",
       "      <td>1.00067</td>\n",
       "      <td>-1.086</td>\n",
       "      <td>0.856555</td>\n",
       "      <td>0.182826</td>\n",
       "      <td>...</td>\n",
       "      <td>NaN</td>\n",
       "      <td>NaN</td>\n",
       "      <td>NaN</td>\n",
       "      <td>NaN</td>\n",
       "      <td>NaN</td>\n",
       "      <td>NaN</td>\n",
       "      <td>3</td>\n",
       "      <td>-2.5</td>\n",
       "      <td>-4.0</td>\n",
       "      <td>1.475701</td>\n",
       "    </tr>\n",
       "    <tr>\n",
       "      <th>21928</th>\n",
       "      <td>30</td>\n",
       "      <td>0.02215</td>\n",
       "      <td>0.117284</td>\n",
       "      <td>0.817174</td>\n",
       "      <td>0.097565</td>\n",
       "      <td>2.9888</td>\n",
       "      <td>1.00067</td>\n",
       "      <td>-1.086</td>\n",
       "      <td>0.856555</td>\n",
       "      <td>0.182826</td>\n",
       "      <td>...</td>\n",
       "      <td>NaN</td>\n",
       "      <td>NaN</td>\n",
       "      <td>NaN</td>\n",
       "      <td>NaN</td>\n",
       "      <td>NaN</td>\n",
       "      <td>NaN</td>\n",
       "      <td>4</td>\n",
       "      <td>-2.5</td>\n",
       "      <td>-4.5</td>\n",
       "      <td>1.475701</td>\n",
       "    </tr>\n",
       "    <tr>\n",
       "      <th>...</th>\n",
       "      <td>...</td>\n",
       "      <td>...</td>\n",
       "      <td>...</td>\n",
       "      <td>...</td>\n",
       "      <td>...</td>\n",
       "      <td>...</td>\n",
       "      <td>...</td>\n",
       "      <td>...</td>\n",
       "      <td>...</td>\n",
       "      <td>...</td>\n",
       "      <td>...</td>\n",
       "      <td>...</td>\n",
       "      <td>...</td>\n",
       "      <td>...</td>\n",
       "      <td>...</td>\n",
       "      <td>...</td>\n",
       "      <td>...</td>\n",
       "      <td>...</td>\n",
       "      <td>...</td>\n",
       "      <td>...</td>\n",
       "      <td>...</td>\n",
       "    </tr>\n",
       "    <tr>\n",
       "      <th>22675</th>\n",
       "      <td>30</td>\n",
       "      <td>0.02215</td>\n",
       "      <td>0.117284</td>\n",
       "      <td>0.817174</td>\n",
       "      <td>0.097565</td>\n",
       "      <td>2.9888</td>\n",
       "      <td>1.00067</td>\n",
       "      <td>-1.086</td>\n",
       "      <td>0.856555</td>\n",
       "      <td>0.182826</td>\n",
       "      <td>...</td>\n",
       "      <td>0.051444</td>\n",
       "      <td>0.051779</td>\n",
       "      <td>0.051175</td>\n",
       "      <td>0.042995</td>\n",
       "      <td>0.040616</td>\n",
       "      <td>0.042994</td>\n",
       "      <td>31</td>\n",
       "      <td>-5.0</td>\n",
       "      <td>-5.5</td>\n",
       "      <td>0.000000</td>\n",
       "    </tr>\n",
       "    <tr>\n",
       "      <th>22676</th>\n",
       "      <td>30</td>\n",
       "      <td>0.02215</td>\n",
       "      <td>0.117284</td>\n",
       "      <td>0.817174</td>\n",
       "      <td>0.097565</td>\n",
       "      <td>2.9888</td>\n",
       "      <td>1.00067</td>\n",
       "      <td>-1.086</td>\n",
       "      <td>0.856555</td>\n",
       "      <td>0.182826</td>\n",
       "      <td>...</td>\n",
       "      <td>0.067157</td>\n",
       "      <td>0.076178</td>\n",
       "      <td>0.066151</td>\n",
       "      <td>0.051692</td>\n",
       "      <td>0.047268</td>\n",
       "      <td>0.045538</td>\n",
       "      <td>32</td>\n",
       "      <td>-5.0</td>\n",
       "      <td>-6.0</td>\n",
       "      <td>0.000000</td>\n",
       "    </tr>\n",
       "    <tr>\n",
       "      <th>22677</th>\n",
       "      <td>30</td>\n",
       "      <td>0.02215</td>\n",
       "      <td>0.117284</td>\n",
       "      <td>0.817174</td>\n",
       "      <td>0.097565</td>\n",
       "      <td>2.9888</td>\n",
       "      <td>1.00067</td>\n",
       "      <td>-1.086</td>\n",
       "      <td>0.856555</td>\n",
       "      <td>0.182826</td>\n",
       "      <td>...</td>\n",
       "      <td>0.047852</td>\n",
       "      <td>0.055311</td>\n",
       "      <td>0.065577</td>\n",
       "      <td>0.051584</td>\n",
       "      <td>0.060994</td>\n",
       "      <td>0.067799</td>\n",
       "      <td>33</td>\n",
       "      <td>-5.5</td>\n",
       "      <td>-5.5</td>\n",
       "      <td>0.000000</td>\n",
       "    </tr>\n",
       "    <tr>\n",
       "      <th>22678</th>\n",
       "      <td>30</td>\n",
       "      <td>0.02215</td>\n",
       "      <td>0.117284</td>\n",
       "      <td>0.817174</td>\n",
       "      <td>0.097565</td>\n",
       "      <td>2.9888</td>\n",
       "      <td>1.00067</td>\n",
       "      <td>-1.086</td>\n",
       "      <td>0.856555</td>\n",
       "      <td>0.182826</td>\n",
       "      <td>...</td>\n",
       "      <td>0.072981</td>\n",
       "      <td>0.087094</td>\n",
       "      <td>0.093547</td>\n",
       "      <td>0.068536</td>\n",
       "      <td>0.061996</td>\n",
       "      <td>0.068627</td>\n",
       "      <td>34</td>\n",
       "      <td>-5.5</td>\n",
       "      <td>-6.0</td>\n",
       "      <td>0.000000</td>\n",
       "    </tr>\n",
       "    <tr>\n",
       "      <th>22679</th>\n",
       "      <td>30</td>\n",
       "      <td>0.02215</td>\n",
       "      <td>0.117284</td>\n",
       "      <td>0.817174</td>\n",
       "      <td>0.097565</td>\n",
       "      <td>2.9888</td>\n",
       "      <td>1.00067</td>\n",
       "      <td>-1.086</td>\n",
       "      <td>0.856555</td>\n",
       "      <td>0.182826</td>\n",
       "      <td>...</td>\n",
       "      <td>0.111530</td>\n",
       "      <td>0.103723</td>\n",
       "      <td>0.110161</td>\n",
       "      <td>0.099582</td>\n",
       "      <td>0.049145</td>\n",
       "      <td>0.082035</td>\n",
       "      <td>35</td>\n",
       "      <td>-6.0</td>\n",
       "      <td>-6.0</td>\n",
       "      <td>0.000000</td>\n",
       "    </tr>\n",
       "  </tbody>\n",
       "</table>\n",
       "<p>756 rows × 90 columns</p>\n",
       "</div>"
      ],
      "text/plain": [
       "       index       wb        wc        Ol       tau    lnAs       ns      w  \\\n",
       "21924     30  0.02215  0.117284  0.817174  0.097565  2.9888  1.00067 -1.086   \n",
       "21925     30  0.02215  0.117284  0.817174  0.097565  2.9888  1.00067 -1.086   \n",
       "21926     30  0.02215  0.117284  0.817174  0.097565  2.9888  1.00067 -1.086   \n",
       "21927     30  0.02215  0.117284  0.817174  0.097565  2.9888  1.00067 -1.086   \n",
       "21928     30  0.02215  0.117284  0.817174  0.097565  2.9888  1.00067 -1.086   \n",
       "...      ...      ...       ...       ...       ...     ...      ...    ...   \n",
       "22675     30  0.02215  0.117284  0.817174  0.097565  2.9888  1.00067 -1.086   \n",
       "22676     30  0.02215  0.117284  0.817174  0.097565  2.9888  1.00067 -1.086   \n",
       "22677     30  0.02215  0.117284  0.817174  0.097565  2.9888  1.00067 -1.086   \n",
       "22678     30  0.02215  0.117284  0.817174  0.097565  2.9888  1.00067 -1.086   \n",
       "22679     30  0.02215  0.117284  0.817174  0.097565  2.9888  1.00067 -1.086   \n",
       "\n",
       "             s8        Om  ...     xi_69     xi_70     xi_71     xi_72  \\\n",
       "21924  0.856555  0.182826  ...       NaN       NaN       NaN       NaN   \n",
       "21925  0.856555  0.182826  ...       NaN       NaN       NaN       NaN   \n",
       "21926  0.856555  0.182826  ...       NaN       NaN       NaN       NaN   \n",
       "21927  0.856555  0.182826  ...       NaN       NaN       NaN       NaN   \n",
       "21928  0.856555  0.182826  ...       NaN       NaN       NaN       NaN   \n",
       "...         ...       ...  ...       ...       ...       ...       ...   \n",
       "22675  0.856555  0.182826  ...  0.051444  0.051779  0.051175  0.042995   \n",
       "22676  0.856555  0.182826  ...  0.067157  0.076178  0.066151  0.051692   \n",
       "22677  0.856555  0.182826  ...  0.047852  0.055311  0.065577  0.051584   \n",
       "22678  0.856555  0.182826  ...  0.072981  0.087094  0.093547  0.068536   \n",
       "22679  0.856555  0.182826  ...  0.111530  0.103723  0.110161  0.099582   \n",
       "\n",
       "          xi_73     xi_74  logn_bin  logn1  logn2  redshift  \n",
       "21924       NaN       NaN         0   -2.5   -2.5  1.475701  \n",
       "21925       NaN       NaN         1   -2.5   -3.0  1.475701  \n",
       "21926       NaN       NaN         2   -2.5   -3.5  1.475701  \n",
       "21927       NaN       NaN         3   -2.5   -4.0  1.475701  \n",
       "21928       NaN       NaN         4   -2.5   -4.5  1.475701  \n",
       "...         ...       ...       ...    ...    ...       ...  \n",
       "22675  0.040616  0.042994        31   -5.0   -5.5  0.000000  \n",
       "22676  0.047268  0.045538        32   -5.0   -6.0  0.000000  \n",
       "22677  0.060994  0.067799        33   -5.5   -5.5  0.000000  \n",
       "22678  0.061996  0.068627        34   -5.5   -6.0  0.000000  \n",
       "22679  0.049145  0.082035        35   -6.0   -6.0  0.000000  \n",
       "\n",
       "[756 rows x 90 columns]"
      ]
     },
     "execution_count": 45,
     "metadata": {},
     "output_type": "execute_result"
    }
   ],
   "source": [
    "df[df['index'] == run]"
   ]
  },
  {
   "cell_type": "code",
   "execution_count": 46,
   "metadata": {},
   "outputs": [
    {
     "data": {
      "text/plain": [
       "[<matplotlib.lines.Line2D at 0x2b23ef814a90>]"
      ]
     },
     "execution_count": 46,
     "metadata": {},
     "output_type": "execute_result"
    },
    {
     "data": {
      "image/png": "[encoded data removed]",
      "text/plain": [
       "<Figure size 432x288 with 1 Axes>"
      ]
     },
     "metadata": {
      "needs_background": "light"
     },
     "output_type": "display_data"
    }
   ],
   "source": [
    "plt.plot(r_xi, r_xi**2*df[(df['index'] == run) & (df['redshift'] == snapshot_to_redshift(snapshot))\n",
    "                          & (df['logn1'] == logn1) & (df['logn2'] == logn2)][select_columns].iloc[0])\n",
    "plt.plot(r_xi, r_xi**2* emu.get_xiauto(r_xi, logn1, logn2, snapshot_to_redshift(snapshot)))"
   ]
  },
  {
   "cell_type": "code",
   "execution_count": null,
   "metadata": {},
   "outputs": [],
   "source": []
  }
 ],
 "metadata": {
  "kernelspec": {
   "display_name": "Python 3 (ipykernel)",
   "language": "python",
   "name": "python3"
  },
  "language_info": {
   "codemirror_mode": {
    "name": "ipython",
    "version": 3
   },
   "file_extension": ".py",
   "mimetype": "text/x-python",
   "name": "python",
   "nbconvert_exporter": "python",
   "pygments_lexer": "ipython3",
   "version": "3.7.6"
  }
 },
 "nbformat": 4,
 "nbformat_minor": 4
}
