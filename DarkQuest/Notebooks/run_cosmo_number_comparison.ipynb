{
 "cells": [
  {
   "cell_type": "code",
   "execution_count": 1,
   "metadata": {},
   "outputs": [],
   "source": [
    "import numpy as np\n",
    "import matplotlib.pyplot as plt\n",
    "from pathlib import Path\n",
    "import pandas as pd\n",
    "from dq import snapshot_to_redshift,convert_run_to_cosmo_number,Cosmology\n",
    "import matplotlib.pyplot as plt"
   ]
  },
  {
   "cell_type": "code",
   "execution_count": 2,
   "metadata": {},
   "outputs": [],
   "source": [
    "run = 43\n",
    "cosmology = Cosmology.from_run(run)"
   ]
  },
  {
   "cell_type": "code",
   "execution_count": 3,
   "metadata": {},
   "outputs": [
    {
     "data": {
      "text/plain": [
       "[0.0214601, 0.128306, 0.8116979999999999, 3.27345, 0.959195, -1.114]"
      ]
     },
     "execution_count": 3,
     "metadata": {},
     "output_type": "execute_result"
    }
   ],
   "source": [
    "cosmology.cparams"
   ]
  },
  {
   "cell_type": "code",
   "execution_count": 4,
   "metadata": {},
   "outputs": [],
   "source": [
    "cosmo_number = convert_run_to_cosmo_number(run)"
   ]
  },
  {
   "cell_type": "code",
   "execution_count": 5,
   "metadata": {},
   "outputs": [
    {
     "name": "stdout",
     "output_type": "stream",
     "text": [
      "initialize cosmo_class\n",
      "Initialize pklin emulator\n",
      "initialize propagator emulator\n",
      "Initialize sigma_d emulator\n",
      "initialize cross-correlation emulator\n",
      "initialize auto-correlation emulator\n",
      "Initialize sigmaM emulator\n",
      "initialize xinl emulator\n"
     ]
    }
   ],
   "source": [
    "from dark_emulator import darkemu\n",
    "emu = darkemu.base_class()\n",
    "emu.set_cosmology(emu.cosmo.get_cosmology_predefined(cosmo_number)) \n"
   ]
  },
  {
   "cell_type": "code",
   "execution_count": 19,
   "metadata": {},
   "outputs": [],
   "source": [
    "HALO_DATA_DIR = Path(\"/cosma6/data/dp004/dc-cues1/DarkQuest/\")\n",
    "r_xi =  np.loadtxt(HALO_DATA_DIR / \"xi/separation.dat\")\n",
    "xi_hh_data = np.load(HALO_DATA_DIR / \"xi/xihh.npy\")\n",
    "r_mask = (r_xi < 70.)\n",
    "xi_hh_data = xi_hh_data[...,r_mask]\n",
    "r_xi = r_xi[r_mask]"
   ]
  },
  {
   "cell_type": "code",
   "execution_count": 20,
   "metadata": {},
   "outputs": [
    {
     "data": {
      "text/plain": [
       "[<matplotlib.lines.Line2D at 0x2b48959a6ed0>]"
      ]
     },
     "execution_count": 20,
     "metadata": {},
     "output_type": "execute_result"
    },
    {
     "data": {
      "image/png": "[encoded data removed]",
      "text/plain": [
       "<Figure size 432x288 with 1 Axes>"
      ]
     },
     "metadata": {
      "needs_background": "light"
     },
     "output_type": "display_data"
    }
   ],
   "source": [
    "plt.plot(r_xi, r_xi**2*xi_hh_data[cosmo_number-1,-1,0])\n",
    "\n",
    "plt.plot(r_xi, r_xi**2* emu.get_xiauto(r_xi, -2.5,-2.5, 0.))"
   ]
  },
  {
   "cell_type": "code",
   "execution_count": 21,
   "metadata": {},
   "outputs": [],
   "source": [
    "multi_xi = pd.read_csv('/cosma7/data/dp004/dc-cues1/DarkQuest/dataframes/xi_multioutput.csv')"
   ]
  },
  {
   "cell_type": "code",
   "execution_count": 22,
   "metadata": {},
   "outputs": [],
   "source": [
    "select_columns = [col for col in multi_xi.columns if col.startswith('xi_')]\n"
   ]
  },
  {
   "cell_type": "code",
   "execution_count": 23,
   "metadata": {},
   "outputs": [],
   "source": [
    "filtered_multi_xi = multi_xi[(multi_xi['index'] == cosmo_number) & \n",
    "        (multi_xi['logn1'] == -2.5) &\n",
    "         (multi_xi['logn2'] == -2.5) &\n",
    "        (multi_xi['redshift'] == 0.0)]"
   ]
  },
  {
   "cell_type": "code",
   "execution_count": 28,
   "metadata": {},
   "outputs": [
    {
     "data": {
      "text/plain": [
       "array([-1.00000000e+00, -1.00000000e+00, -1.00000000e+00, -1.00000000e+00,\n",
       "       -1.00000000e+00, -1.00000000e+00, -1.00000000e+00, -1.00000000e+00,\n",
       "       -9.92697497e-01, -9.04359134e-01, -3.25659463e-01,  1.46471348e+00,\n",
       "        4.58362726e+00,  7.72570749e+00,  9.88372652e+00,  1.09103044e+01,\n",
       "        1.11240670e+01,  1.07376107e+01,  9.94450894e+00,  9.08381657e+00,\n",
       "        8.12533218e+00,  7.18992823e+00,  6.30226179e+00,  5.47551335e+00,\n",
       "        4.74904820e+00,  4.08444887e+00,  3.49703318e+00,  2.98520291e+00,\n",
       "        2.53315655e+00,  2.14516603e+00,  1.81390228e+00,  1.52901627e+00,\n",
       "        1.28953206e+00,  1.08805718e+00,  9.18202961e-01,  7.74742578e-01,\n",
       "        6.51477015e-01,  5.47807007e-01,  4.59412900e-01,  3.84459952e-01,\n",
       "        3.01893108e-01,  2.29899033e-01,  1.78108845e-01,  1.42881011e-01,\n",
       "        1.16514563e-01,  9.53574291e-02,  7.90470194e-02,  6.68684651e-02,\n",
       "        5.68688699e-02,  4.85621528e-02,  4.17761463e-02,  3.61006095e-02,\n",
       "        3.13222560e-02,  2.72737737e-02,  2.38730318e-02,  2.09895032e-02,\n",
       "        1.85270044e-02,  1.64365750e-02,  1.46006226e-02,  1.29967377e-02,\n",
       "        1.16299259e-02,  1.04136975e-02,  9.30014478e-03,  8.32055913e-03,\n",
       "        7.45114119e-03,  6.65104604e-03,  5.93551076e-03,  5.28857764e-03,\n",
       "        4.71977542e-03,  4.24346873e-03])"
      ]
     },
     "execution_count": 28,
     "metadata": {},
     "output_type": "execute_result"
    }
   ],
   "source": [
    "filtered_multi_xi[select_columns].values[0]"
   ]
  },
  {
   "cell_type": "code",
   "execution_count": 29,
   "metadata": {},
   "outputs": [
    {
     "data": {
      "text/plain": [
       "[<matplotlib.lines.Line2D at 0x2b4895cdb910>]"
      ]
     },
     "execution_count": 29,
     "metadata": {},
     "output_type": "execute_result"
    },
    {
     "data": {
      "image/png": "[encoded data removed]",
      "text/plain": [
       "<Figure size 432x288 with 1 Axes>"
      ]
     },
     "metadata": {
      "needs_background": "light"
     },
     "output_type": "display_data"
    }
   ],
   "source": [
    "plt.plot(r_xi, r_xi**2*xi_hh_data[cosmo_number-1,-1,0])\n",
    "\n",
    "plt.plot(r_xi, r_xi**2*filtered_multi_xi[select_columns].values[0])"
   ]
  },
  {
   "cell_type": "code",
   "execution_count": 30,
   "metadata": {},
   "outputs": [],
   "source": [
    "xi = pd.read_csv('/cosma7/data/dp004/dc-cues1/DarkQuest/dataframes/xi.csv')"
   ]
  },
  {
   "cell_type": "code",
   "execution_count": 31,
   "metadata": {},
   "outputs": [],
   "source": [
    "filtered_xi = xi[(xi['index'] == cosmo_number) & \n",
    "        (xi['logn1'] == -2.5) &\n",
    "         (xi['logn2'] == -2.5) &\n",
    "        (xi['redshift'] == 0.0)]"
   ]
  },
  {
   "cell_type": "code",
   "execution_count": 32,
   "metadata": {},
   "outputs": [
    {
     "data": {
      "text/html": [
       "<div>\n",
       "<style scoped>\n",
       "    .dataframe tbody tr th:only-of-type {\n",
       "        vertical-align: middle;\n",
       "    }\n",
       "\n",
       "    .dataframe tbody tr th {\n",
       "        vertical-align: top;\n",
       "    }\n",
       "\n",
       "    .dataframe thead th {\n",
       "        text-align: right;\n",
       "    }\n",
       "</style>\n",
       "<table border=\"1\" class=\"dataframe\">\n",
       "  <thead>\n",
       "    <tr style=\"text-align: right;\">\n",
       "      <th></th>\n",
       "      <th>index</th>\n",
       "      <th>wb</th>\n",
       "      <th>wc</th>\n",
       "      <th>Ol</th>\n",
       "      <th>tau</th>\n",
       "      <th>lnAs</th>\n",
       "      <th>ns</th>\n",
       "      <th>w</th>\n",
       "      <th>s8</th>\n",
       "      <th>Om</th>\n",
       "      <th>h</th>\n",
       "      <th>xi</th>\n",
       "      <th>r</th>\n",
       "      <th>logn_bin</th>\n",
       "      <th>logn1</th>\n",
       "      <th>logn2</th>\n",
       "      <th>redshift</th>\n",
       "    </tr>\n",
       "  </thead>\n",
       "  <tbody>\n",
       "    <tr>\n",
       "      <th>4342520</th>\n",
       "      <td>83</td>\n",
       "      <td>0.02146</td>\n",
       "      <td>0.128306</td>\n",
       "      <td>0.811698</td>\n",
       "      <td>0.073865</td>\n",
       "      <td>3.27345</td>\n",
       "      <td>0.959195</td>\n",
       "      <td>-1.114</td>\n",
       "      <td>1.04797</td>\n",
       "      <td>0.188302</td>\n",
       "      <td>0.893728</td>\n",
       "      <td>-1.000000</td>\n",
       "      <td>0.105925</td>\n",
       "      <td>0</td>\n",
       "      <td>-2.5</td>\n",
       "      <td>-2.5</td>\n",
       "      <td>0.0</td>\n",
       "    </tr>\n",
       "    <tr>\n",
       "      <th>4342521</th>\n",
       "      <td>83</td>\n",
       "      <td>0.02146</td>\n",
       "      <td>0.128306</td>\n",
       "      <td>0.811698</td>\n",
       "      <td>0.073865</td>\n",
       "      <td>3.27345</td>\n",
       "      <td>0.959195</td>\n",
       "      <td>-1.114</td>\n",
       "      <td>1.04797</td>\n",
       "      <td>0.188302</td>\n",
       "      <td>0.893728</td>\n",
       "      <td>-1.000000</td>\n",
       "      <td>0.118850</td>\n",
       "      <td>0</td>\n",
       "      <td>-2.5</td>\n",
       "      <td>-2.5</td>\n",
       "      <td>0.0</td>\n",
       "    </tr>\n",
       "    <tr>\n",
       "      <th>4342522</th>\n",
       "      <td>83</td>\n",
       "      <td>0.02146</td>\n",
       "      <td>0.128306</td>\n",
       "      <td>0.811698</td>\n",
       "      <td>0.073865</td>\n",
       "      <td>3.27345</td>\n",
       "      <td>0.959195</td>\n",
       "      <td>-1.114</td>\n",
       "      <td>1.04797</td>\n",
       "      <td>0.188302</td>\n",
       "      <td>0.893728</td>\n",
       "      <td>-1.000000</td>\n",
       "      <td>0.133352</td>\n",
       "      <td>0</td>\n",
       "      <td>-2.5</td>\n",
       "      <td>-2.5</td>\n",
       "      <td>0.0</td>\n",
       "    </tr>\n",
       "    <tr>\n",
       "      <th>4342523</th>\n",
       "      <td>83</td>\n",
       "      <td>0.02146</td>\n",
       "      <td>0.128306</td>\n",
       "      <td>0.811698</td>\n",
       "      <td>0.073865</td>\n",
       "      <td>3.27345</td>\n",
       "      <td>0.959195</td>\n",
       "      <td>-1.114</td>\n",
       "      <td>1.04797</td>\n",
       "      <td>0.188302</td>\n",
       "      <td>0.893728</td>\n",
       "      <td>-1.000000</td>\n",
       "      <td>0.149624</td>\n",
       "      <td>0</td>\n",
       "      <td>-2.5</td>\n",
       "      <td>-2.5</td>\n",
       "      <td>0.0</td>\n",
       "    </tr>\n",
       "    <tr>\n",
       "      <th>4342524</th>\n",
       "      <td>83</td>\n",
       "      <td>0.02146</td>\n",
       "      <td>0.128306</td>\n",
       "      <td>0.811698</td>\n",
       "      <td>0.073865</td>\n",
       "      <td>3.27345</td>\n",
       "      <td>0.959195</td>\n",
       "      <td>-1.114</td>\n",
       "      <td>1.04797</td>\n",
       "      <td>0.188302</td>\n",
       "      <td>0.893728</td>\n",
       "      <td>-1.000000</td>\n",
       "      <td>0.167880</td>\n",
       "      <td>0</td>\n",
       "      <td>-2.5</td>\n",
       "      <td>-2.5</td>\n",
       "      <td>0.0</td>\n",
       "    </tr>\n",
       "    <tr>\n",
       "      <th>...</th>\n",
       "      <td>...</td>\n",
       "      <td>...</td>\n",
       "      <td>...</td>\n",
       "      <td>...</td>\n",
       "      <td>...</td>\n",
       "      <td>...</td>\n",
       "      <td>...</td>\n",
       "      <td>...</td>\n",
       "      <td>...</td>\n",
       "      <td>...</td>\n",
       "      <td>...</td>\n",
       "      <td>...</td>\n",
       "      <td>...</td>\n",
       "      <td>...</td>\n",
       "      <td>...</td>\n",
       "      <td>...</td>\n",
       "      <td>...</td>\n",
       "    </tr>\n",
       "    <tr>\n",
       "      <th>4342585</th>\n",
       "      <td>83</td>\n",
       "      <td>0.02146</td>\n",
       "      <td>0.128306</td>\n",
       "      <td>0.811698</td>\n",
       "      <td>0.073865</td>\n",
       "      <td>3.27345</td>\n",
       "      <td>0.959195</td>\n",
       "      <td>-1.114</td>\n",
       "      <td>1.04797</td>\n",
       "      <td>0.188302</td>\n",
       "      <td>0.893728</td>\n",
       "      <td>0.006651</td>\n",
       "      <td>61.000000</td>\n",
       "      <td>0</td>\n",
       "      <td>-2.5</td>\n",
       "      <td>-2.5</td>\n",
       "      <td>0.0</td>\n",
       "    </tr>\n",
       "    <tr>\n",
       "      <th>4342586</th>\n",
       "      <td>83</td>\n",
       "      <td>0.02146</td>\n",
       "      <td>0.128306</td>\n",
       "      <td>0.811698</td>\n",
       "      <td>0.073865</td>\n",
       "      <td>3.27345</td>\n",
       "      <td>0.959195</td>\n",
       "      <td>-1.114</td>\n",
       "      <td>1.04797</td>\n",
       "      <td>0.188302</td>\n",
       "      <td>0.893728</td>\n",
       "      <td>0.005936</td>\n",
       "      <td>63.000000</td>\n",
       "      <td>0</td>\n",
       "      <td>-2.5</td>\n",
       "      <td>-2.5</td>\n",
       "      <td>0.0</td>\n",
       "    </tr>\n",
       "    <tr>\n",
       "      <th>4342587</th>\n",
       "      <td>83</td>\n",
       "      <td>0.02146</td>\n",
       "      <td>0.128306</td>\n",
       "      <td>0.811698</td>\n",
       "      <td>0.073865</td>\n",
       "      <td>3.27345</td>\n",
       "      <td>0.959195</td>\n",
       "      <td>-1.114</td>\n",
       "      <td>1.04797</td>\n",
       "      <td>0.188302</td>\n",
       "      <td>0.893728</td>\n",
       "      <td>0.005289</td>\n",
       "      <td>65.000000</td>\n",
       "      <td>0</td>\n",
       "      <td>-2.5</td>\n",
       "      <td>-2.5</td>\n",
       "      <td>0.0</td>\n",
       "    </tr>\n",
       "    <tr>\n",
       "      <th>4342588</th>\n",
       "      <td>83</td>\n",
       "      <td>0.02146</td>\n",
       "      <td>0.128306</td>\n",
       "      <td>0.811698</td>\n",
       "      <td>0.073865</td>\n",
       "      <td>3.27345</td>\n",
       "      <td>0.959195</td>\n",
       "      <td>-1.114</td>\n",
       "      <td>1.04797</td>\n",
       "      <td>0.188302</td>\n",
       "      <td>0.893728</td>\n",
       "      <td>0.004720</td>\n",
       "      <td>67.000000</td>\n",
       "      <td>0</td>\n",
       "      <td>-2.5</td>\n",
       "      <td>-2.5</td>\n",
       "      <td>0.0</td>\n",
       "    </tr>\n",
       "    <tr>\n",
       "      <th>4342589</th>\n",
       "      <td>83</td>\n",
       "      <td>0.02146</td>\n",
       "      <td>0.128306</td>\n",
       "      <td>0.811698</td>\n",
       "      <td>0.073865</td>\n",
       "      <td>3.27345</td>\n",
       "      <td>0.959195</td>\n",
       "      <td>-1.114</td>\n",
       "      <td>1.04797</td>\n",
       "      <td>0.188302</td>\n",
       "      <td>0.893728</td>\n",
       "      <td>0.004243</td>\n",
       "      <td>69.000000</td>\n",
       "      <td>0</td>\n",
       "      <td>-2.5</td>\n",
       "      <td>-2.5</td>\n",
       "      <td>0.0</td>\n",
       "    </tr>\n",
       "  </tbody>\n",
       "</table>\n",
       "<p>70 rows × 17 columns</p>\n",
       "</div>"
      ],
      "text/plain": [
       "         index       wb        wc        Ol       tau     lnAs        ns  \\\n",
       "4342520     83  0.02146  0.128306  0.811698  0.073865  3.27345  0.959195   \n",
       "4342521     83  0.02146  0.128306  0.811698  0.073865  3.27345  0.959195   \n",
       "4342522     83  0.02146  0.128306  0.811698  0.073865  3.27345  0.959195   \n",
       "4342523     83  0.02146  0.128306  0.811698  0.073865  3.27345  0.959195   \n",
       "4342524     83  0.02146  0.128306  0.811698  0.073865  3.27345  0.959195   \n",
       "...        ...      ...       ...       ...       ...      ...       ...   \n",
       "4342585     83  0.02146  0.128306  0.811698  0.073865  3.27345  0.959195   \n",
       "4342586     83  0.02146  0.128306  0.811698  0.073865  3.27345  0.959195   \n",
       "4342587     83  0.02146  0.128306  0.811698  0.073865  3.27345  0.959195   \n",
       "4342588     83  0.02146  0.128306  0.811698  0.073865  3.27345  0.959195   \n",
       "4342589     83  0.02146  0.128306  0.811698  0.073865  3.27345  0.959195   \n",
       "\n",
       "             w       s8        Om         h        xi          r  logn_bin  \\\n",
       "4342520 -1.114  1.04797  0.188302  0.893728 -1.000000   0.105925         0   \n",
       "4342521 -1.114  1.04797  0.188302  0.893728 -1.000000   0.118850         0   \n",
       "4342522 -1.114  1.04797  0.188302  0.893728 -1.000000   0.133352         0   \n",
       "4342523 -1.114  1.04797  0.188302  0.893728 -1.000000   0.149624         0   \n",
       "4342524 -1.114  1.04797  0.188302  0.893728 -1.000000   0.167880         0   \n",
       "...        ...      ...       ...       ...       ...        ...       ...   \n",
       "4342585 -1.114  1.04797  0.188302  0.893728  0.006651  61.000000         0   \n",
       "4342586 -1.114  1.04797  0.188302  0.893728  0.005936  63.000000         0   \n",
       "4342587 -1.114  1.04797  0.188302  0.893728  0.005289  65.000000         0   \n",
       "4342588 -1.114  1.04797  0.188302  0.893728  0.004720  67.000000         0   \n",
       "4342589 -1.114  1.04797  0.188302  0.893728  0.004243  69.000000         0   \n",
       "\n",
       "         logn1  logn2  redshift  \n",
       "4342520   -2.5   -2.5       0.0  \n",
       "4342521   -2.5   -2.5       0.0  \n",
       "4342522   -2.5   -2.5       0.0  \n",
       "4342523   -2.5   -2.5       0.0  \n",
       "4342524   -2.5   -2.5       0.0  \n",
       "...        ...    ...       ...  \n",
       "4342585   -2.5   -2.5       0.0  \n",
       "4342586   -2.5   -2.5       0.0  \n",
       "4342587   -2.5   -2.5       0.0  \n",
       "4342588   -2.5   -2.5       0.0  \n",
       "4342589   -2.5   -2.5       0.0  \n",
       "\n",
       "[70 rows x 17 columns]"
      ]
     },
     "execution_count": 32,
     "metadata": {},
     "output_type": "execute_result"
    }
   ],
   "source": [
    "filtered_xi"
   ]
  },
  {
   "cell_type": "code",
   "execution_count": 33,
   "metadata": {},
   "outputs": [
    {
     "data": {
      "text/plain": [
       "[<matplotlib.lines.Line2D at 0x2b4896950590>]"
      ]
     },
     "execution_count": 33,
     "metadata": {},
     "output_type": "execute_result"
    },
    {
     "data": {
      "image/png": "[encoded data removed]",
      "text/plain": [
       "<Figure size 432x288 with 1 Axes>"
      ]
     },
     "metadata": {
      "needs_background": "light"
     },
     "output_type": "display_data"
    }
   ],
   "source": [
    "plt.plot(r_xi, r_xi**2*xi_hh_data[cosmo_number-1,-1,0])\n",
    "\n",
    "plt.plot(r_xi, r_xi**2*filtered_xi['xi'].values)"
   ]
  },
  {
   "cell_type": "code",
   "execution_count": null,
   "metadata": {},
   "outputs": [],
   "source": []
  }
 ],
 "metadata": {
  "kernelspec": {
   "display_name": "Python 3 (ipykernel)",
   "language": "python",
   "name": "python3"
  },
  "language_info": {
   "codemirror_mode": {
    "name": "ipython",
    "version": 3
   },
   "file_extension": ".py",
   "mimetype": "text/x-python",
   "name": "python",
   "nbconvert_exporter": "python",
   "pygments_lexer": "ipython3",
   "version": "3.7.6"
  }
 },
 "nbformat": 4,
 "nbformat_minor": 4
}
